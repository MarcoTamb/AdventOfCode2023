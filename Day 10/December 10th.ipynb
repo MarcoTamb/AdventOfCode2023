{
 "cells": [
  {
   "cell_type": "markdown",
   "metadata": {},
   "source": [
    "# Advent of Code"
   ]
  },
  {
   "cell_type": "markdown",
   "metadata": {},
   "source": [
    "## December 10<sup>th</sup>"
   ]
  },
  {
   "cell_type": "markdown",
   "metadata": {},
   "source": [
    "### Problem 1"
   ]
  },
  {
   "cell_type": "code",
   "execution_count": null,
   "metadata": {},
   "outputs": [
    {
     "name": "stdout",
     "output_type": "stream",
     "text": [
      "6927\n"
     ]
    }
   ],
   "source": [
    "import numpy as np\n",
    "with open('input_day10.txt', 'r') as file:\n",
    "    data_raw=file.read().split('\\n')\n",
    "# data_raw='''.F----7F7F7F7F-7....\n",
    "# .|F--7||||||||FJ....\n",
    "# .||.FJ||||||||L7....\n",
    "# FJL7L7LJLJ||LJ.L-7..\n",
    "# L--J.L7...LJS7F-7L7.\n",
    "# ....F-J..F7FJ|L7L7L7\n",
    "# ....L7.F7||L7|.L7L7|\n",
    "# .....|FJLJ|FJ|F7|.LJ\n",
    "# ....FJL-7.||.||||...\n",
    "# ....L---J.LJ.LJLJ...\n",
    "# '''.split('\\n')\n",
    "data_raw=[line for line in data_raw if line !='']\n",
    "for i, line in enumerate(data_raw):\n",
    "    if 'S' in line:\n",
    "        s_coordinate=(i, line.find('S'))\n",
    "\n",
    "def data(point):\n",
    "    return data_raw[point[0]][point[1]]\n",
    "\n",
    "def get_starting_points(s_coordinate):\n",
    "    coordinate_list=[]\n",
    "    if data_raw[s_coordinate[0]+1][s_coordinate[1]] in '|LJ':\n",
    "        coordinate_list.append((s_coordinate[0]+1, s_coordinate[1], 'S'))\n",
    "    if data_raw[s_coordinate[0]][s_coordinate[1]+1] in '-J7':\n",
    "        coordinate_list.append((s_coordinate[0], s_coordinate[1]+1, 'E'))\n",
    "    if data_raw[s_coordinate[0]-1][s_coordinate[1]] in '|7F':\n",
    "        coordinate_list.append((s_coordinate[0]-1, s_coordinate[1], 'N'))\n",
    "    if data_raw[s_coordinate[0]][s_coordinate[1]-1] in '-':\n",
    "        coordinate_list.append((s_coordinate[0], s_coordinate[1]-1, 'W'))\n",
    "    return coordinate_list\n",
    "\n",
    "def update_points(points_list):\n",
    "    new_list=[]\n",
    "    for point in points_list:\n",
    "        if data(point)=='|':\n",
    "            if point[2]=='N':\n",
    "                new_list.append((point[0]-1, point[1], 'N'))\n",
    "            elif point[2]=='S':\n",
    "                new_list.append((point[0]+1, point[1], 'S'))\n",
    "            else:\n",
    "                print('Pipe error')\n",
    "        elif data(point)=='-':\n",
    "            if point[2]=='E':\n",
    "                new_list.append((point[0], point[1]+1, 'E'))\n",
    "            elif point[2]=='W':\n",
    "                new_list.append((point[0], point[1]-1, 'W'))\n",
    "            else:\n",
    "                print('Pipe error')\n",
    "                \n",
    "        elif data(point)=='L':\n",
    "            if point[2]=='W':\n",
    "                new_list.append((point[0]-1, point[1], 'N'))\n",
    "            elif point[2]=='S':\n",
    "                new_list.append((point[0], point[1]+1, 'E'))\n",
    "            else:\n",
    "                print('Pipe error')\n",
    "        elif data(point)=='J':\n",
    "            if point[2]=='E':\n",
    "                new_list.append((point[0]-1, point[1], 'N'))\n",
    "            elif point[2]=='S':\n",
    "                new_list.append((point[0], point[1]-1, 'W'))\n",
    "            else:\n",
    "                print('Pipe error')\n",
    "        elif data(point)=='7':\n",
    "            if point[2]=='N':\n",
    "                new_list.append((point[0], point[1]-1, 'W'))\n",
    "            elif point[2]=='E':\n",
    "                new_list.append((point[0]+1, point[1], 'S'))\n",
    "            else:\n",
    "                print('Pipe error')\n",
    "        elif data(point)=='F':\n",
    "            if point[2]=='N':\n",
    "                new_list.append((point[0], point[1]+1, 'E'))\n",
    "            elif point[2]=='W':\n",
    "                new_list.append((point[0]+1, point[1], 'S'))\n",
    "            else:\n",
    "                print('Pipe error')\n",
    "    new_list=[point for point in new_list if distances[point[0]][point[1]]==-1]\n",
    "    return new_list\n",
    "\n",
    "distances=np.array([[-1]*len(line) for line in data_raw])\n",
    "current_index=0\n",
    "distances[s_coordinate[0]][s_coordinate[1]]=current_index\n",
    "current_points=get_starting_points(s_coordinate)\n",
    "while len(current_points)>0:\n",
    "    current_index+=1\n",
    "    for point in current_points:\n",
    "        distances[point[0]][point[1]]=current_index\n",
    "    current_points=update_points(current_points)\n",
    "\n",
    "print(current_index)\n"
   ]
  },
  {
   "cell_type": "markdown",
   "metadata": {},
   "source": [
    "### Problem 2\n",
    "\n",
    "Solving this with winding numbers like people did on reddit would probably be better. But hey, it works! "
   ]
  },
  {
   "cell_type": "code",
   "execution_count": null,
   "metadata": {},
   "outputs": [],
   "source": [
    "in_loop=[[True if item>=0 else False for item in line] for line in distances]\n",
    "data_inside_search=[''.join([char if in_loop[i][j] else '.' for j, char in enumerate(line)]) for i, line in enumerate(data_raw)]"
   ]
  },
  {
   "cell_type": "code",
   "execution_count": null,
   "metadata": {},
   "outputs": [],
   "source": [
    "top_row={\n",
    "    '|':'.|.', \n",
    "    '-':'...', \n",
    "    'L':'.|.', \n",
    "    'J':'.|.', \n",
    "    '7':'...', \n",
    "    'F':'...', \n",
    "    '.':'...', \n",
    "    'S':'.|.', \n",
    "}\n",
    "mid_row={\n",
    "    '|':'.|.', \n",
    "    '-':'---', \n",
    "    'L':'.L-', \n",
    "    'J':'-J.', \n",
    "    '7':'-7.', \n",
    "    'F':'.F-', \n",
    "    '.':'...', \n",
    "    'S':'-S-',   \n",
    "}\n",
    "bottom_row={\n",
    "    '|':'.|.', \n",
    "    '-':'...', \n",
    "    'L':'...', \n",
    "    'J':'...', \n",
    "    '7':'.|.', \n",
    "    'F':'.|.', \n",
    "    '.':'...', \n",
    "    'S':'.|.', \n",
    "}\n",
    "\n",
    "larger_grid=[]\n",
    "for index, line in enumerate(data_inside_search):\n",
    "    larger_grid.append(''.join([top_row[char] for char in line]))\n",
    "    larger_grid.append(''.join([mid_row[char]  for char in line]))\n",
    "    larger_grid.append(''.join([bottom_row[char]  for char in line]))\n"
   ]
  },
  {
   "cell_type": "code",
   "execution_count": null,
   "metadata": {},
   "outputs": [],
   "source": [
    "is_inside=[[True if point=='.' else False for point in line ] for line in larger_grid]\n",
    "number_rows=len(is_inside)\n",
    "number_cols=len(is_inside[0])\n",
    "propagating=[(0, 0)]\n",
    "def propagate(list_propagating):\n",
    "    new_list=[]\n",
    "    for point in list_propagating:\n",
    "        if point[0]>0:\n",
    "            if is_inside[point[0]-1][point[1]]==True:\n",
    "                is_inside[point[0]-1][point[1]]=False\n",
    "                new_list.append((point[0]-1, point[1]))\n",
    "        if point[1]>0:\n",
    "            if is_inside[point[0]][point[1]-1]==True:\n",
    "                is_inside[point[0]][point[1]-1]=False\n",
    "                new_list.append((point[0], point[1]-1))\n",
    "\n",
    "        if point[0]<number_rows-1:\n",
    "            if is_inside[point[0]+1][point[1]]==True:\n",
    "                is_inside[point[0]+1][point[1]]=False\n",
    "                new_list.append((point[0]+1, point[1]))\n",
    "        if point[1]<number_cols-1:\n",
    "            if is_inside[point[0]][point[1]+1]==True:\n",
    "                is_inside[point[0]][point[1]+1]=False\n",
    "                new_list.append((point[0], point[1]+1))\n",
    "    return new_list\n",
    "\n",
    "while len(propagating)!=0:\n",
    "    propagating=propagate(propagating)\n"
   ]
  },
  {
   "cell_type": "code",
   "execution_count": null,
   "metadata": {},
   "outputs": [
    {
     "data": {
      "text/plain": [
       "467"
      ]
     },
     "metadata": {},
     "output_type": "display_data"
    }
   ],
   "source": [
    "print(sum([sum(line[1::3]) for line in is_inside[1::3]]))"
   ]
  }
 ],
 "metadata": {
  "language_info": {
   "name": "python"
  }
 },
 "nbformat": 4,
 "nbformat_minor": 2
}
