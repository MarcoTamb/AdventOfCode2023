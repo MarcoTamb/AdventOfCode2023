{
 "cells": [
  {
   "cell_type": "markdown",
   "metadata": {},
   "source": [
    "# Advent of Code"
   ]
  },
  {
   "cell_type": "markdown",
   "metadata": {},
   "source": [
    "## December 6<sup>th</sup>"
   ]
  },
  {
   "cell_type": "markdown",
   "metadata": {},
   "source": [
    "### Problem 1"
   ]
  },
  {
   "cell_type": "code",
   "execution_count": 1,
   "metadata": {},
   "outputs": [
    {
     "data": {
      "text/plain": [
       "2344708"
      ]
     },
     "execution_count": 1,
     "metadata": {},
     "output_type": "execute_result"
    }
   ],
   "source": [
    "import numpy as np\n",
    "import math\n",
    "with open('input_day6.txt', 'r') as file:\n",
    "    data_raw=file.read().split('\\n')\n",
    "races=list(zip([int(time) for time in data_raw[0].split(' ') if time.isnumeric()],\n",
    "               [int(time) for time in data_raw[1].split(' ') if time.isnumeric()]))\n",
    "math.prod([math.ceil(roots[0])-math.floor(roots[1])-1 for roots in [np.roots([-1, time, -distance]) for (time, distance) in races]])"
   ]
  },
  {
   "cell_type": "markdown",
   "metadata": {},
   "source": [
    "### Problem 2"
   ]
  },
  {
   "cell_type": "code",
   "execution_count": 2,
   "metadata": {},
   "outputs": [
    {
     "data": {
      "text/plain": [
       "30125202"
      ]
     },
     "execution_count": 2,
     "metadata": {},
     "output_type": "execute_result"
    }
   ],
   "source": [
    "with open('input_day6.txt', 'r') as file:\n",
    "    data_raw=file.read().split('\\n')\n",
    "time, distance = (int(''.join([time for time in data_raw[0].split(' ') if time.isnumeric()])),\n",
    "                  int(''.join([time for time in data_raw[1].split(' ') if time.isnumeric()])))\n",
    "roots = np.roots([-1, time, -distance])\n",
    "math.ceil(roots[0])-math.floor(roots[1])-1"
   ]
  }
 ],
 "metadata": {
  "kernelspec": {
   "display_name": "base",
   "language": "python",
   "name": "python3"
  },
  "language_info": {
   "codemirror_mode": {
    "name": "ipython",
    "version": 3
   },
   "file_extension": ".py",
   "mimetype": "text/x-python",
   "name": "python",
   "nbconvert_exporter": "python",
   "pygments_lexer": "ipython3",
   "version": "3.10.10"
  }
 },
 "nbformat": 4,
 "nbformat_minor": 2
}
