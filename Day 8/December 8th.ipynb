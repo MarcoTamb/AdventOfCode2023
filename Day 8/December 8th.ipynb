{
 "cells": [
  {
   "cell_type": "markdown",
   "metadata": {},
   "source": [
    "# Advent of Code"
   ]
  },
  {
   "cell_type": "markdown",
   "metadata": {},
   "source": [
    "## December 8<sup>th</sup>"
   ]
  },
  {
   "cell_type": "markdown",
   "metadata": {},
   "source": [
    "### Problem 1"
   ]
  },
  {
   "cell_type": "code",
   "execution_count": 1,
   "metadata": {},
   "outputs": [
    {
     "name": "stdout",
     "output_type": "stream",
     "text": [
      "17873\n"
     ]
    }
   ],
   "source": [
    "import numpy as np\n",
    "import math\n",
    "with open('input_day8.txt', 'r') as file:\n",
    "    data_raw=file.read().split('\\n')\n",
    "# data='''LLR\n",
    "\n",
    "# AAA = (BBB, BBB)\n",
    "# BBB = (AAA, ZZZ)\n",
    "# ZZZ = (ZZZ, ZZZ)\n",
    "# '''.split('\\n')\n",
    "pattern=data_raw[0]\n",
    "nodes={line[0:3]:{'L': line[7:10], 'R': line[12:15]} for line in data_raw[2:-1]}\n",
    "\n",
    "current_node='AAA'\n",
    "index=0\n",
    "while current_node!='ZZZ':\n",
    "    current_node=nodes[current_node][pattern[index % len(pattern)]]\n",
    "    index+=1\n",
    "print(index)"
   ]
  },
  {
   "cell_type": "markdown",
   "metadata": {},
   "source": [
    "### Problem 2"
   ]
  },
  {
   "cell_type": "code",
   "execution_count": 2,
   "metadata": {},
   "outputs": [
    {
     "name": "stdout",
     "output_type": "stream",
     "text": [
      "['AAA', 'QRA', 'KQA', 'DFA', 'DBA', 'HJA'] ['XVZ', 'PPZ', 'VGZ', 'ZZZ', 'QFZ', 'QQZ']\n"
     ]
    }
   ],
   "source": [
    "import numpy as np\n",
    "import math\n",
    "with open('input_day8.txt', 'r') as file:\n",
    "    data_raw=file.read().split('\\n')\n",
    "# data='''LLR\n",
    "\n",
    "# AAA = (BBB, BBB)\n",
    "# BBB = (AAA, ZZZ)\n",
    "# ZZZ = (ZZZ, ZZZ)\n",
    "# '''.split('\\n')\n",
    "pattern=data_raw[0]\n",
    "nodes={line[0:3]:{'L': line[7:10], 'R': line[12:15]} for line in data_raw[2:-1]}\n",
    "\n",
    "print([node for node in nodes.keys() if node[2]=='A'], [node for node in nodes.keys() if node[2]=='Z'])\n"
   ]
  },
  {
   "cell_type": "code",
   "execution_count": 3,
   "metadata": {},
   "outputs": [
    {
     "name": "stdout",
     "output_type": "stream",
     "text": [
      "AAA\n",
      "17873\n",
      "35746\n",
      "QRA\n",
      "19631\n",
      "39262\n",
      "KQA\n",
      "17287\n",
      "34574\n",
      "DFA\n",
      "12599\n",
      "25198\n",
      "DBA\n",
      "21389\n",
      "42778\n",
      "HJA\n",
      "20803\n",
      "41606\n"
     ]
    }
   ],
   "source": [
    "start_nodes={\n",
    "    start_node: {\n",
    "        end_node:0 for end_node in nodes.keys() if end_node[2]=='Z'\n",
    "    } \n",
    "    for start_node in nodes.keys() if start_node[2]=='A'\n",
    "}\n",
    "\n",
    "for start_node in start_nodes.keys():\n",
    "    current_node=start_node\n",
    "    print(start_node)\n",
    "    index=0\n",
    "    while (0 in start_nodes[start_node].values()):\n",
    "        current_node=nodes[current_node][pattern[index % len(pattern)]]\n",
    "        \n",
    "        index+=1\n",
    "        if current_node[2]=='Z':\n",
    "            if start_nodes[start_node][current_node]==0:\n",
    "                start_nodes[start_node][current_node]=[index]\n",
    "                print(index)\n",
    "            elif len(start_nodes[start_node][current_node])==1:\n",
    "                start_nodes[start_node][current_node].append(index)\n",
    "                print(index)\n",
    "                break\n",
    "        if index>10**6:\n",
    "            print('We are going nowhere!')\n",
    "            break"
   ]
  },
  {
   "cell_type": "code",
   "execution_count": 4,
   "metadata": {},
   "outputs": [],
   "source": [
    "node_periods={node: [value for value in start_nodes[node].values() if value!=0][0] for node in start_nodes}\n",
    "node_periods={\n",
    "    node: {\n",
    "        'first': node_periods[node][0],\n",
    "        'period': node_periods[node][1]-node_periods[node][0],\n",
    "    }\n",
    "    for node in node_periods.keys()\n",
    "}"
   ]
  },
  {
   "cell_type": "code",
   "execution_count": 5,
   "metadata": {},
   "outputs": [
    {
     "data": {
      "text/plain": [
       "({'AAA': {'first': 17873, 'period': 17873},\n",
       "  'QRA': {'first': 19631, 'period': 19631},\n",
       "  'KQA': {'first': 17287, 'period': 17287},\n",
       "  'DFA': {'first': 12599, 'period': 12599},\n",
       "  'DBA': {'first': 21389, 'period': 21389},\n",
       "  'HJA': {'first': 20803, 'period': 20803}},\n",
       " [0, 0, 0, 0, 0, 0])"
      ]
     },
     "execution_count": 5,
     "metadata": {},
     "output_type": "execute_result"
    }
   ],
   "source": [
    "node_periods,  [number % len(pattern) for number in [value['first'] for value in node_periods.values()]]"
   ]
  },
  {
   "cell_type": "markdown",
   "metadata": {},
   "source": [
    "We can cheat a bit with this input! LCM works!"
   ]
  },
  {
   "cell_type": "code",
   "execution_count": 6,
   "metadata": {},
   "outputs": [
    {
     "data": {
      "text/plain": [
       "15746133679061"
      ]
     },
     "execution_count": 6,
     "metadata": {},
     "output_type": "execute_result"
    }
   ],
   "source": [
    "import math\n",
    "math.lcm(17873, 19631, 17287, 12599, 21389, 20803)"
   ]
  }
 ],
 "metadata": {
  "kernelspec": {
   "display_name": "base",
   "language": "python",
   "name": "python3"
  },
  "language_info": {
   "codemirror_mode": {
    "name": "ipython",
    "version": 3
   },
   "file_extension": ".py",
   "mimetype": "text/x-python",
   "name": "python",
   "nbconvert_exporter": "python",
   "pygments_lexer": "ipython3",
   "version": "3.10.10"
  }
 },
 "nbformat": 4,
 "nbformat_minor": 2
}
