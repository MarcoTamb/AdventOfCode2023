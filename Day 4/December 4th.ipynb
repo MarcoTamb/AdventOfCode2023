{
 "cells": [
  {
   "cell_type": "markdown",
   "metadata": {},
   "source": [
    "# Advent of Code"
   ]
  },
  {
   "cell_type": "markdown",
   "metadata": {},
   "source": [
    "## December 4<sup>th</sup>"
   ]
  },
  {
   "cell_type": "code",
   "execution_count": 1,
   "metadata": {},
   "outputs": [
    {
     "data": {
      "text/plain": [
       "21568"
      ]
     },
     "execution_count": 1,
     "metadata": {},
     "output_type": "execute_result"
    }
   ],
   "source": [
    "with open('input_day4.txt', 'r') as file:\n",
    "    lines=file.read().split('\\n')[:-1]\n",
    "# lines='''Card 1: 41 48 83 86 17 | 83 86  6 31 17  9 48 53\n",
    "# Card 2: 13 32 20 16 61 | 61 30 68 82 17 32 24 19\n",
    "# Card 3:  1 21 53 59 44 | 69 82 63 72 16 21 14  1\n",
    "# Card 4: 41 92 73 84 69 | 59 84 76 51 58  5 54 83\n",
    "# Card 5: 87 83 26 28 32 | 88 30 70 12 93 22 82 36\n",
    "# Card 6: 31 18 13 56 72 | 74 77 10 23 35 67 36 11'''.split('\\n')\n",
    "lines=[line.split('|') for line in lines]\n",
    "sum([2**(len(winning_list)-1) for winning_list in [[number for number in line[0].split(' ') if number.isnumeric() and number in line[1].split(' ')] for line in lines] if winning_list!=[]])"
   ]
  },
  {
   "cell_type": "code",
   "execution_count": 2,
   "metadata": {},
   "outputs": [],
   "source": [
    "winning_cards={(index+1): val for index, val in enumerate([len(winning_list) for winning_list in [[number for number in line[0].split(' ') if number.isnumeric() and number in line[1].split(' ')] for line in lines]])}"
   ]
  },
  {
   "cell_type": "code",
   "execution_count": 3,
   "metadata": {},
   "outputs": [
    {
     "data": {
      "text/plain": [
       "11827296"
      ]
     },
     "execution_count": 3,
     "metadata": {},
     "output_type": "execute_result"
    }
   ],
   "source": [
    "card_count= {index:1 for index in winning_cards.keys()}\n",
    "for current_card in winning_cards.keys():\n",
    "    for next_card in range(current_card+1, current_card+1+winning_cards[current_card]):\n",
    "        card_count[next_card]=card_count[next_card]+card_count[current_card]\n",
    "sum(list(card_count.values()))"
   ]
  },
  {
   "cell_type": "code",
   "execution_count": 4,
   "metadata": {},
   "outputs": [
    {
     "data": {
      "text/plain": [
       "11827296"
      ]
     },
     "execution_count": 4,
     "metadata": {},
     "output_type": "execute_result"
    }
   ],
   "source": [
    "card_value={}\n",
    "for current in list(winning_cards.keys())[::-1]:\n",
    "    card_value[current]=1+sum([card_value[next] for next in range(current+1, current+1+winning_cards[current])])\n",
    "sum(list(card_value.values()))"
   ]
  }
 ],
 "metadata": {
  "kernelspec": {
   "display_name": "base",
   "language": "python",
   "name": "python3"
  },
  "language_info": {
   "codemirror_mode": {
    "name": "ipython",
    "version": 3
   },
   "file_extension": ".py",
   "mimetype": "text/x-python",
   "name": "python",
   "nbconvert_exporter": "python",
   "pygments_lexer": "ipython3",
   "version": "3.10.10"
  }
 },
 "nbformat": 4,
 "nbformat_minor": 2
}
