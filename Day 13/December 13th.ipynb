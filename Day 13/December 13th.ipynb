{
 "cells": [
  {
   "cell_type": "markdown",
   "metadata": {},
   "source": [
    "# Advent of Code"
   ]
  },
  {
   "cell_type": "markdown",
   "metadata": {},
   "source": [
    "## December 13<sup>th</sup>"
   ]
  },
  {
   "cell_type": "code",
   "execution_count": 1,
   "metadata": {},
   "outputs": [],
   "source": [
    "with open('input_day13.txt', 'r') as file:\n",
    "    data=file.read()\n",
    "\n",
    "# data='''#.##..##.\n",
    "# ..#.##.#.\n",
    "# ##......#\n",
    "# ##......#\n",
    "# ..#.##.#.\n",
    "# ..##..##.\n",
    "# #.#.##.#.\n",
    "\n",
    "# #...##..#\n",
    "# #....#..#\n",
    "# ..##..###\n",
    "# #####.##.\n",
    "# #####.##.\n",
    "# ..##..###\n",
    "# #....#..#\n",
    "# '''\n",
    "patterns=[[line for line in pattern.split('\\n') if line!=''] for pattern in data.split('\\n\\n')]"
   ]
  },
  {
   "cell_type": "markdown",
   "metadata": {},
   "source": [
    "### Problem 1"
   ]
  },
  {
   "cell_type": "code",
   "execution_count": 2,
   "metadata": {},
   "outputs": [],
   "source": [
    "def find_reflection(pattern):\n",
    "    rows, cols=len(pattern), len(pattern[0])\n",
    "    for i in range(rows-1):\n",
    "        if i+1<rows/2:\n",
    "            if all([element1==element2 for element1, element2 in zip(pattern[:i+1], pattern[i+1:2*i+2][::-1])]):\n",
    "                return (i+1, 'V')\n",
    "        else:\n",
    "            if all([element1==element2 for element1, element2 in zip(pattern[2*i-rows+2:i+1],  pattern[i+1:][::-1])]):\n",
    "                return (i+1, 'V')\n",
    "    for i in range(cols-1):\n",
    "        if i+1<cols/2:\n",
    "            zipped=zip([line[:i+1] for line in pattern], [line[i+1:2*i+2][::-1] for line in pattern])\n",
    "        else:\n",
    "            zipped=zip([line[2*i-cols+2:i+1] for line in pattern], [line[i+1:][::-1] for line in pattern])\n",
    "        if all([element1==element2 for element1, element2 in zipped]):\n",
    "            return (i+1, 'H')\n",
    "\n",
    "    return 'error, no line found'"
   ]
  },
  {
   "cell_type": "code",
   "execution_count": 3,
   "metadata": {},
   "outputs": [
    {
     "data": {
      "text/plain": [
       "39939"
      ]
     },
     "execution_count": 3,
     "metadata": {},
     "output_type": "execute_result"
    }
   ],
   "source": [
    "reflections=[find_reflection(pattern) for pattern in patterns]\n",
    "vertical=[reflection[0] for reflection in reflections if reflection[1]=='V']\n",
    "horizontal=[reflection[0] for reflection in reflections if reflection[1]=='H']\n",
    "sum(horizontal)+100*sum(vertical)"
   ]
  },
  {
   "cell_type": "markdown",
   "metadata": {},
   "source": [
    "### Problem 2"
   ]
  },
  {
   "cell_type": "code",
   "execution_count": 7,
   "metadata": {},
   "outputs": [],
   "source": [
    "patterns=[[line.replace('#', '1').replace('.', '0')  for line in pattern.split('\\n') if line!=''] for pattern in data.split('\\n\\n')]"
   ]
  },
  {
   "cell_type": "code",
   "execution_count": 8,
   "metadata": {},
   "outputs": [],
   "source": [
    "valid=[10**i for i in range(40)]+[-10**i for i in range(40)]\n",
    "def check_list(values):\n",
    "    val=[value for value in values if value!=0]\n",
    "    if len(val)!=1:\n",
    "        return False\n",
    "    elif val[0] not in valid:\n",
    "        return False\n",
    "    else: \n",
    "        return True"
   ]
  },
  {
   "cell_type": "code",
   "execution_count": 9,
   "metadata": {},
   "outputs": [],
   "source": [
    "def find_reflection_new(pattern):\n",
    "    rows, cols=len(pattern), len(pattern[0])\n",
    "    for i in range(rows-1):\n",
    "        if i+1<rows/2:\n",
    "            if check_list([int(element1)-int(element2) for element1, element2 in zip(pattern[:i+1], pattern[i+1:2*i+2][::-1])]):\n",
    "                return (i+1, 'V')\n",
    "        else:\n",
    "            if check_list([int(element1)-int(element2) for element1, element2 in zip(pattern[2*i-rows+2:i+1],  pattern[i+1:][::-1])]):\n",
    "                return (i+1, 'V')\n",
    "    for i in range(cols-1):\n",
    "        if i+1<cols/2:\n",
    "            zipped=zip([line[:i+1] for line in pattern], [line[i+1:2*i+2][::-1] for line in pattern])\n",
    "        else:\n",
    "            zipped=zip([line[2*i-cols+2:i+1] for line in pattern], [line[i+1:][::-1] for line in pattern])\n",
    "        if check_list([int(element1)-int(element2) for element1, element2 in zipped]):\n",
    "            return (i+1, 'H')\n",
    "    return 'help!'\n",
    "\n"
   ]
  },
  {
   "cell_type": "code",
   "execution_count": 10,
   "metadata": {},
   "outputs": [
    {
     "data": {
      "text/plain": [
       "32069"
      ]
     },
     "execution_count": 10,
     "metadata": {},
     "output_type": "execute_result"
    }
   ],
   "source": [
    "\n",
    "reflections=[find_reflection_new(pattern) for pattern in patterns]\n",
    "vertical=[reflection[0] for reflection in reflections if reflection[1]=='V']\n",
    "horizontal=[reflection[0] for reflection in reflections if reflection[1]=='H']\n",
    "sum(horizontal)+100*sum(vertical)"
   ]
  }
 ],
 "metadata": {
  "kernelspec": {
   "display_name": "base",
   "language": "python",
   "name": "python3"
  },
  "language_info": {
   "codemirror_mode": {
    "name": "ipython",
    "version": 3
   },
   "file_extension": ".py",
   "mimetype": "text/x-python",
   "name": "python",
   "nbconvert_exporter": "python",
   "pygments_lexer": "ipython3",
   "version": "3.10.10"
  }
 },
 "nbformat": 4,
 "nbformat_minor": 2
}
