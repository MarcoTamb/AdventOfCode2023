{
 "cells": [
  {
   "cell_type": "markdown",
   "metadata": {},
   "source": [
    "# Advent of Code"
   ]
  },
  {
   "cell_type": "markdown",
   "metadata": {},
   "source": [
    "## December 11<sup>th</sup>"
   ]
  },
  {
   "cell_type": "markdown",
   "metadata": {},
   "source": [
    "### Problem 1"
   ]
  },
  {
   "cell_type": "code",
   "execution_count": 1,
   "metadata": {},
   "outputs": [
    {
     "name": "stdout",
     "output_type": "stream",
     "text": [
      "374\n"
     ]
    }
   ],
   "source": [
    "import re\n",
    "with open('input_day11.txt', 'r') as file:\n",
    "    data=file.read().split('\\n')\n",
    "data='''...#......\n",
    ".......#..\n",
    "#.........\n",
    "..........\n",
    "......#...\n",
    ".#........\n",
    ".........#\n",
    "..........\n",
    ".......#..\n",
    "#...#.....\n",
    "# '''.split('\\n')\n",
    "data=data[:-1]\n",
    "no_in_row=[index for index, line in enumerate(data)  if '#' not in line]\n",
    "no_in_cols=[index for index in range(len(data[0]))  if '#' not in [line[index] for line in data]]\n",
    "\n",
    "for index in no_in_row[::-1]:\n",
    "    data.insert(index, '.'*len(data[0]))\n",
    "\n",
    "for index in no_in_cols[::-1]:\n",
    "    data=[line[:index]+'.'+line[index:] for line in data]\n",
    "galaxies=[]\n",
    "for i, line in enumerate(data):\n",
    "    for j, char in enumerate(line):\n",
    "        if char=='#':\n",
    "            galaxies.append((i,j))\n",
    "distances=[]\n",
    "for i, galaxy in enumerate(galaxies):\n",
    "    for galaxy_2 in galaxies[i+1:]:\n",
    "        distances.append(abs(galaxy[0]-galaxy_2[0])+abs(galaxy[1]-galaxy_2[1]))\n",
    "print(sum(distances))"
   ]
  },
  {
   "cell_type": "markdown",
   "metadata": {},
   "source": [
    "### Problem 2"
   ]
  },
  {
   "cell_type": "code",
   "execution_count": 2,
   "metadata": {},
   "outputs": [
    {
     "name": "stdout",
     "output_type": "stream",
     "text": [
      "649862989626\n"
     ]
    }
   ],
   "source": [
    "import re\n",
    "with open('input_day11.txt', 'r') as file:\n",
    "    data=file.read().split('\\n')\n",
    "# data='''...#......\n",
    "# .......#..\n",
    "# #.........\n",
    "# ..........\n",
    "# ......#...\n",
    "# .#........\n",
    "# .........#\n",
    "# ..........\n",
    "# .......#..\n",
    "# #...#.....\n",
    "# '''.split('\\n')\n",
    "data=data[:-1]\n",
    "expansion_rate=999999\n",
    "\n",
    "no_in_row=[index for index, line in enumerate(data)  if '#' not in line]\n",
    "no_in_cols=[index for index in range(len(data[0]))  if '#' not in [line[index] for line in data]]\n",
    "galaxies=[]\n",
    "for i, line in enumerate(data):\n",
    "    for j, char in enumerate(line):\n",
    "        if char=='#':\n",
    "            galaxies.append((i,j))\n",
    "\n",
    "for index in no_in_row[::-1]:\n",
    "    galaxies=[galaxy if galaxy[0]<index else (galaxy[0]+expansion_rate, galaxy[1]) for galaxy in galaxies]\n",
    "\n",
    "for index in no_in_cols[::-1]:\n",
    "    galaxies=[galaxy if galaxy[1]<index else (galaxy[0], galaxy[1]+expansion_rate) for galaxy in galaxies]\n",
    "\n",
    "distances=[]\n",
    "for i, galaxy in enumerate(galaxies):\n",
    "    for galaxy_2 in galaxies[i+1:]:\n",
    "        distances.append(abs(galaxy[0]-galaxy_2[0])+abs(galaxy[1]-galaxy_2[1]))\n",
    "print(sum(distances))"
   ]
  }
 ],
 "metadata": {
  "kernelspec": {
   "display_name": "base",
   "language": "python",
   "name": "python3"
  },
  "language_info": {
   "codemirror_mode": {
    "name": "ipython",
    "version": 3
   },
   "file_extension": ".py",
   "mimetype": "text/x-python",
   "name": "python",
   "nbconvert_exporter": "python",
   "pygments_lexer": "ipython3",
   "version": "3.10.10"
  }
 },
 "nbformat": 4,
 "nbformat_minor": 2
}
