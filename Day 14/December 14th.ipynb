{
 "cells": [
  {
   "cell_type": "markdown",
   "metadata": {},
   "source": [
    "# Advent of Code"
   ]
  },
  {
   "cell_type": "markdown",
   "metadata": {},
   "source": [
    "## December 14<sup>th</sup>"
   ]
  },
  {
   "cell_type": "code",
   "execution_count": 71,
   "metadata": {},
   "outputs": [],
   "source": [
    "import copy\n",
    "with open('input_day14.txt', 'r') as file:\n",
    "    data=file.read()\n",
    "\n",
    "# data='''O....#....\n",
    "# O.OO#....#\n",
    "# .....##...\n",
    "# OO.#O....O\n",
    "# .O.....O#.\n",
    "# O.#..O.#.#\n",
    "# ..O..#O..O\n",
    "# .......O..\n",
    "# #....###..\n",
    "# #OO..#....\n",
    "# '''\n",
    "data=['#'+line+'#' for line in data.split('\\n') if line!='']\n",
    "data=['#'*len(data[0])]+data+['#'*len(data[0])]\n",
    "data=[list(line) for line in data]\n",
    "\n",
    "# print('\\n'.join([''.join(line)+f' {len(data)-index-1}' for index, line in enumerate(data)]))"
   ]
  },
  {
   "cell_type": "code",
   "execution_count": 72,
   "metadata": {},
   "outputs": [],
   "source": [
    "class Platform:\n",
    "    def __init__(self, input):\n",
    "        self.platform_state=input\n",
    "        self.total_lines=len(input)-2\n",
    "        self.total_cols=len(input[0])-2\n",
    "    def __str__(self):\n",
    "        return '\\n'.join([''.join(line[1:-1])+f' {self.total_lines-index}' for index, line in enumerate(self.platform_state[1:-1])])\n",
    "    def move_north(self):\n",
    "        temp=[line[:] for line in platform.platform_state[:]]\n",
    "        for line_number, line in enumerate(self.platform_state):\n",
    "            for column, char in enumerate(line):\n",
    "                if char=='O':\n",
    "                    for above in range(line_number-1, -1, -1):\n",
    "                        if temp[above][column] in '#O':\n",
    "                            temp[line_number][column]='.'\n",
    "                            temp[above+1][column]='O'\n",
    "                            break\n",
    "        self.platform_state=temp\n",
    "    def move_south(self):\n",
    "        temp=[line[:] for line in platform.platform_state[:]]\n",
    "        for index, line in enumerate(self.platform_state[::-1]):\n",
    "            line_number=self.total_lines-index+1\n",
    "            for column, char in enumerate(line):\n",
    "                if char=='O':\n",
    "                    for below in range(line_number+1, self.total_lines+2,):\n",
    "                        if temp[below][column] in '#O':\n",
    "                            temp[line_number][column]='.'\n",
    "                            temp[below-1][column]='O'\n",
    "                            break\n",
    "        self.platform_state=temp\n",
    "    def move_east(self):\n",
    "        temp=[line[:] for line in platform.platform_state[:]]\n",
    "        for line_number, line in enumerate(self.platform_state):\n",
    "            for index, char in enumerate(line[::-1]):\n",
    "                column=self.total_lines-index+1\n",
    "                if char=='O':\n",
    "                    for right in range(column+1, self.total_cols+2,):\n",
    "                        if temp[line_number][right] in '#O':\n",
    "                            temp[line_number][column]='.'\n",
    "                            temp[line_number][right-1]='O'\n",
    "                            break\n",
    "        self.platform_state=temp\n",
    "        pass\n",
    "    def move_west(self):\n",
    "        temp=self.platform_state[:]\n",
    "        for line_number, line in enumerate(self.platform_state):\n",
    "            for column, char in enumerate(line):\n",
    "                if char=='O':\n",
    "                    for left in range(column-1, -1, -1):\n",
    "                        if temp[line_number][left] in '#O':\n",
    "                            temp[line_number][column]='.'\n",
    "                            temp[line_number][left+1]='O'\n",
    "                            break\n",
    "        self.platform_state=temp\n",
    "    def cycle(self):\n",
    "        self.move_north()\n",
    "        self.move_west()\n",
    "        self.move_south()\n",
    "        self.move_east()\n",
    "    def value(self):\n",
    "        return sum([line.count('O')*(self.total_lines-index+1) for index, line in enumerate(self.platform_state)])\n",
    "\n",
    "\n",
    "\n"
   ]
  },
  {
   "cell_type": "markdown",
   "metadata": {},
   "source": [
    "### Problem 1"
   ]
  },
  {
   "cell_type": "code",
   "execution_count": 75,
   "metadata": {},
   "outputs": [
    {
     "name": "stdout",
     "output_type": "stream",
     "text": [
      "105461\n"
     ]
    }
   ],
   "source": [
    "platform=Platform(copy.deepcopy(data))\n",
    "# print(platform, '\\n')\n",
    "platform.move_north()\n",
    "# print(platform)\n",
    "print(platform.value())\n"
   ]
  },
  {
   "cell_type": "markdown",
   "metadata": {},
   "source": [
    "### Problem 2"
   ]
  },
  {
   "cell_type": "code",
   "execution_count": 74,
   "metadata": {},
   "outputs": [
    {
     "name": "stdout",
     "output_type": "stream",
     "text": [
      "Found again state 93 at 100th iteration\n",
      "Period is: 7. Value after target cycles: 102829\n"
     ]
    }
   ],
   "source": [
    "import copy\n",
    "TARGET=1000000000\n",
    "\n",
    "\n",
    "platform=Platform(copy.deepcopy(data))\n",
    "list_of_states=[]\n",
    "values=[]\n",
    "for i in range(1000):\n",
    "    current_state=[''.join(line) for line in platform.platform_state]\n",
    "    if current_state in list_of_states:\n",
    "        repeat_state_index=list_of_states.index(current_state)\n",
    "        period=i-repeat_state_index\n",
    "        many_cycles=((TARGET-repeat_state_index+1)%7)+repeat_state_index-1\n",
    "\n",
    "        print(f'Found again state {repeat_state_index} at {i}th iteration\\nPeriod is: {period}. Value after target cycles: {values[many_cycles]}', )\n",
    "        break\n",
    "    else: \n",
    "        list_of_states.append(current_state)\n",
    "        values.append(platform.value())\n",
    "        platform.cycle()\n",
    "\n"
   ]
  }
 ],
 "metadata": {
  "kernelspec": {
   "display_name": "base",
   "language": "python",
   "name": "python3"
  },
  "language_info": {
   "codemirror_mode": {
    "name": "ipython",
    "version": 3
   },
   "file_extension": ".py",
   "mimetype": "text/x-python",
   "name": "python",
   "nbconvert_exporter": "python",
   "pygments_lexer": "ipython3",
   "version": "3.10.10"
  }
 },
 "nbformat": 4,
 "nbformat_minor": 2
}
