{
 "cells": [
  {
   "cell_type": "markdown",
   "metadata": {},
   "source": [
    "# Advent of Code"
   ]
  },
  {
   "cell_type": "markdown",
   "metadata": {},
   "source": [
    "## December 9<sup>th</sup>"
   ]
  },
  {
   "cell_type": "markdown",
   "metadata": {},
   "source": [
    "### Problem 1"
   ]
  },
  {
   "cell_type": "code",
   "execution_count": 4,
   "metadata": {},
   "outputs": [
    {
     "name": "stdout",
     "output_type": "stream",
     "text": [
      "1806615041\n"
     ]
    }
   ],
   "source": [
    "import numpy as np\n",
    "\n",
    "with open('input_day9.txt', 'r') as file:\n",
    "    data_raw=file.read().split('\\n')\n",
    "# data='''0 3 6 9 12 15\n",
    "# 1 3 6 10 15 21\n",
    "# 10 13 16 21 30 45\n",
    "# '''.split('\\n')\n",
    "data_raw=[np.array([int(number) for number in line.split(' ')]) for line in data_raw if line !='']\n",
    "total=0\n",
    "for line in data_raw:\n",
    "    next=0\n",
    "    diff=line\n",
    "    while sum(diff)!=0:\n",
    "        next+=diff[-1]\n",
    "        diff=np.diff(diff)\n",
    "    total+=next\n",
    "print(total)"
   ]
  },
  {
   "cell_type": "markdown",
   "metadata": {},
   "source": [
    "### Problem 2"
   ]
  },
  {
   "cell_type": "code",
   "execution_count": 5,
   "metadata": {},
   "outputs": [
    {
     "name": "stdout",
     "output_type": "stream",
     "text": [
      "1211\n"
     ]
    }
   ],
   "source": [
    "import numpy as np\n",
    "\n",
    "with open('input_day9.txt', 'r') as file:\n",
    "    data_raw=file.read().split('\\n')\n",
    "# data='''0 3 6 9 12 15\n",
    "# 1 3 6 10 15 21\n",
    "# 10 13 16 21 30 45\n",
    "# '''.split('\\n')\n",
    "data_raw=[np.array([int(number) for number in line.split(' ')]) for line in data_raw if line !='']\n",
    "total=0\n",
    "for line in data_raw:\n",
    "    previous=[]\n",
    "    diff=line\n",
    "    while sum(diff)!=0:\n",
    "        previous.append(diff[0])\n",
    "        diff=np.diff(diff)\n",
    "    total+=sum(previous[::2]) - sum(previous[1::2])\n",
    "print(total)\n"
   ]
  }
 ],
 "metadata": {
  "kernelspec": {
   "display_name": "base",
   "language": "python",
   "name": "python3"
  },
  "language_info": {
   "codemirror_mode": {
    "name": "ipython",
    "version": 3
   },
   "file_extension": ".py",
   "mimetype": "text/x-python",
   "name": "python",
   "nbconvert_exporter": "python",
   "pygments_lexer": "ipython3",
   "version": "3.10.10"
  }
 },
 "nbformat": 4,
 "nbformat_minor": 2
}
