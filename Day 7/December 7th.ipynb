{
 "cells": [
  {
   "cell_type": "markdown",
   "metadata": {},
   "source": [
    "# Advent of Code"
   ]
  },
  {
   "cell_type": "markdown",
   "metadata": {},
   "source": [
    "## December 7<sup>th</sup>"
   ]
  },
  {
   "cell_type": "markdown",
   "metadata": {},
   "source": [
    "### Problem 1"
   ]
  },
  {
   "cell_type": "code",
   "execution_count": 1,
   "metadata": {},
   "outputs": [
    {
     "name": "stdout",
     "output_type": "stream",
     "text": [
      "250951660\n"
     ]
    }
   ],
   "source": [
    "import numpy as np\n",
    "import math\n",
    "with open('input_day7.txt', 'r') as file:\n",
    "    data_raw=file.read().split('\\n')\n",
    "# data='''32T3K 765\n",
    "# T55J5 684\n",
    "# KK677 28\n",
    "# KTJJT 220\n",
    "# QQQJA 483\n",
    "# '''.split('\\n')\n",
    "value_dict={'T':10,'J':11,'Q':12,'K':13,'A':14}\n",
    "def convert_number(n): \n",
    "    if n in '23456789': \n",
    "        return int(n)\n",
    "    else :\n",
    "        return value_dict[n]\n",
    "\n",
    "class hand():\n",
    "    def __init__(self, hand, bid):\n",
    "        self.cards=hand\n",
    "        self.bid=bid\n",
    "        self.calc_hand_value()\n",
    "        self.rank=0\n",
    "    def calc_hand_value(self):\n",
    "        counts=[self.cards.count(card) for card in self.cards]\n",
    "        if 5 in counts:\n",
    "            self.hand_value=6\n",
    "        elif 4 in counts:\n",
    "            self.hand_value=5\n",
    "        elif 3 in counts:\n",
    "            if 2 in counts:\n",
    "                self.hand_value=4\n",
    "            else:\n",
    "                self.hand_value=3   \n",
    "        elif 2 in counts:\n",
    "            if counts.count(2)==4:\n",
    "                self.hand_value=2\n",
    "            else:\n",
    "                self.hand_value=1   \n",
    "        else:\n",
    "            self.hand_value=0\n",
    "    def get_sorting_value(self):\n",
    "        return self.hand_value*10000000 + sum([self.cards[i]*(15**(4-i)) for i in range(5)])\n",
    "    def get_winnings(self):\n",
    "        return self.rank * self.bid\n",
    "\n",
    "hands=[hand([convert_number(char) for char in line[:5]], int(line[6:]))  for line in data_raw if line!='']\n",
    "\n",
    "hands=sorted(hands, key=lambda a: a.get_sorting_value())\n",
    "for index, hand_obj in enumerate(hands):\n",
    "    hand_obj.rank=index+1\n",
    "print(sum([ hand.get_winnings() for hand in hands]))"
   ]
  },
  {
   "cell_type": "markdown",
   "metadata": {},
   "source": [
    "### Problem 2"
   ]
  },
  {
   "cell_type": "code",
   "execution_count": 2,
   "metadata": {},
   "outputs": [
    {
     "name": "stdout",
     "output_type": "stream",
     "text": [
      "251481660\n"
     ]
    }
   ],
   "source": [
    "import numpy as np\n",
    "import math\n",
    "with open('input_day7.txt', 'r') as file:\n",
    "    data_raw = file.read().split('\\n')\n",
    "# data='''32T3K 765\n",
    "# T55J5 684\n",
    "# KK677 28\n",
    "# KTJJT 220\n",
    "# QQQJA 483\n",
    "# '''.split('\\n')\n",
    "value_dict = {'T': 10, 'J': 1, 'Q': 12, 'K': 13, 'A': 14}\n",
    "\n",
    "\n",
    "def convert_number(n):\n",
    "    if n in '23456789':\n",
    "        return int(n)\n",
    "    else:\n",
    "        return value_dict[n]\n",
    "\n",
    "\n",
    "def replace_jacks(hand_list, jack, replacing):\n",
    "    return sum([[hand[:jack]+[replaced]+hand[jack+1:] for hand in hand_list] for replaced in list(replacing)], [])\n",
    "\n",
    "\n",
    "def calc_hand_value(cards):\n",
    "    counts = [cards.count(card) for card in cards]\n",
    "    if 5 in counts:\n",
    "        hand_value = 6\n",
    "    elif 4 in counts:\n",
    "        hand_value = 5\n",
    "    elif 3 in counts:\n",
    "        if 2 in counts:\n",
    "            hand_value = 4\n",
    "        else:\n",
    "            hand_value = 3\n",
    "    elif 2 in counts:\n",
    "        if counts.count(2) == 4:\n",
    "            hand_value = 2\n",
    "        else:\n",
    "            hand_value = 1\n",
    "    else:\n",
    "        hand_value = 0\n",
    "    return hand_value\n",
    "\n",
    "\n",
    "class hand():\n",
    "    def __init__(self, hand, bid):\n",
    "        self.cards = hand\n",
    "        self.bid = bid\n",
    "        self.get_hand_list()\n",
    "        self.sort_value = self.get_sorting_value()\n",
    "        self.rank = 0\n",
    "\n",
    "    def get_hand_list(self):\n",
    "        cardset = set(self.cards)\n",
    "        if 1 not in cardset:\n",
    "            hand_list = [self.cards]\n",
    "        else:\n",
    "            hand_list = [self.cards]\n",
    "            jacks = [i for i, x in enumerate(self.cards) if x == 1]\n",
    "            for jack in jacks:\n",
    "                hand_list = replace_jacks(\n",
    "                    hand_list, jack, [card for card in cardset if card != 1]+[14])\n",
    "        self.hand_list = hand_list\n",
    "\n",
    "    def get_winnings(self):\n",
    "        return self.rank * self.bid\n",
    "\n",
    "    def get_sorting_value(self):\n",
    "        return max([calc_hand_value(cards)*10000000 + sum([self.cards[i]*(15**(4-i)) for i in range(5)]) for cards in self.hand_list])\n",
    "\n",
    "\n",
    "hands = [hand([convert_number(char) for char in line[:5]], int(line[6:]))\n",
    "         for line in data_raw if line != '']\n",
    "\n",
    "hands = sorted(hands, key=lambda a: a.sort_value)\n",
    "for index, hand in enumerate(hands):\n",
    "    hand.rank = index+1\n",
    "print(sum([hand.get_winnings() for hand in hands]))"
   ]
  }
 ],
 "metadata": {
  "kernelspec": {
   "display_name": "base",
   "language": "python",
   "name": "python3"
  },
  "language_info": {
   "codemirror_mode": {
    "name": "ipython",
    "version": 3
   },
   "file_extension": ".py",
   "mimetype": "text/x-python",
   "name": "python",
   "nbconvert_exporter": "python",
   "pygments_lexer": "ipython3",
   "version": "3.10.10"
  }
 },
 "nbformat": 4,
 "nbformat_minor": 2
}
