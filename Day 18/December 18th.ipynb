{
 "cells": [
  {
   "cell_type": "markdown",
   "metadata": {},
   "source": [
    "# Advent of Code"
   ]
  },
  {
   "cell_type": "markdown",
   "metadata": {},
   "source": [
    "## December 18<sup>th</sup>"
   ]
  },
  {
   "cell_type": "code",
   "execution_count": 84,
   "metadata": {},
   "outputs": [],
   "source": [
    "with open('input_day18.txt', 'r') as file:\n",
    "    data=file.read()\n",
    "\n",
    "# data='''R 6 (#70c710)\n",
    "# D 5 (#0dc571)\n",
    "# L 2 (#5713f0)\n",
    "# D 2 (#d2c081)\n",
    "# R 2 (#59c680)\n",
    "# D 2 (#411b91)\n",
    "# L 5 (#8ceee2)\n",
    "# U 2 (#caa173)\n",
    "# L 1 (#1b58a2)\n",
    "# U 2 (#caa171)\n",
    "# R 2 (#7807d2)\n",
    "# U 3 (#a77fa3)\n",
    "# L 2 (#015232)\n",
    "# U 2 (#7a21e3)\n",
    "# '''\n",
    "\n",
    "data=[line.split(' ') for line in data.split('\\n') if line!='']\n",
    "data=[(line[0], int(line[1]), line[2][1:-1] ) for line in data]\n"
   ]
  },
  {
   "cell_type": "markdown",
   "metadata": {},
   "source": [
    "### Problem 1"
   ]
  },
  {
   "cell_type": "code",
   "execution_count": 83,
   "metadata": {},
   "outputs": [
    {
     "data": {
      "text/plain": [
       "45159"
      ]
     },
     "execution_count": 83,
     "metadata": {},
     "output_type": "execute_result"
    }
   ],
   "source": [
    "def solve_problem(input):\n",
    "    current_coordinates=(0, 0)\n",
    "    shoelace_area=0\n",
    "    edges_coordinates=[current_coordinates]\n",
    "    perimeter=0\n",
    "    previous=data[-1][0]\n",
    "    for line in input:\n",
    "        if line[0]=='R':\n",
    "            current_coordinates=(current_coordinates[0]+line[1], current_coordinates[1])\n",
    "            shoelace_area+=-current_coordinates[1]*(line[1])\n",
    "            perimeter+=line[1]/2\n",
    "            if previous=='D':\n",
    "                perimeter+=-0.25\n",
    "            if previous=='U':\n",
    "                perimeter+=0.25\n",
    "            edges_coordinates.append(current_coordinates)\n",
    "        elif line[0]=='L':\n",
    "            current_coordinates=(current_coordinates[0]-line[1], current_coordinates[1])\n",
    "            shoelace_area+=current_coordinates[1]*(line[1])\n",
    "            perimeter+=line[1]/2\n",
    "            if previous=='U':\n",
    "                perimeter+=-0.25\n",
    "            if previous=='D':\n",
    "                perimeter+=0.25\n",
    "            edges_coordinates.append(current_coordinates)\n",
    "        elif line[0]=='U':\n",
    "            current_coordinates=(current_coordinates[0], current_coordinates[1]+line[1])\n",
    "            perimeter+=line[1]/2\n",
    "            if previous=='R':\n",
    "                perimeter+=-0.25\n",
    "            if previous=='L':\n",
    "                perimeter+=0.25        \n",
    "            edges_coordinates.append(current_coordinates)\n",
    "        elif line[0]=='D':\n",
    "            current_coordinates=(current_coordinates[0], current_coordinates[1]-line[1])\n",
    "            perimeter+=line[1]/2\n",
    "            if previous=='L':\n",
    "                perimeter+=-0.25\n",
    "            if previous=='R':\n",
    "                perimeter+=0.25  \n",
    "            edges_coordinates.append(current_coordinates)\n",
    "        previous=line[0]\n",
    "    return abs(shoelace_area)+int(perimeter)\n",
    "\n",
    "solve_problem(data)"
   ]
  },
  {
   "cell_type": "markdown",
   "metadata": {},
   "source": [
    "### Problem 2"
   ]
  },
  {
   "cell_type": "code",
   "execution_count": 82,
   "metadata": {},
   "outputs": [
    {
     "data": {
      "text/plain": [
       "134549294799713"
      ]
     },
     "execution_count": 82,
     "metadata": {},
     "output_type": "execute_result"
    }
   ],
   "source": [
    "hex_dict={'0':0, '1':1, '2':2, '3':3, '4':4, '5':5, '6':6, '7':7, '8':8, '9':9, 'a':10, 'b':11,'c':12, 'd':13,'e':14, 'f':15,}\n",
    "def convert_hex(hex):\n",
    "    dist=0\n",
    "    for i, char in enumerate(hex[1:6]):\n",
    "        dist+=(16**(4-i))*hex_dict[char]\n",
    "    if hex[-1]=='0':\n",
    "        dir='R'\n",
    "    elif hex[-1]=='1':\n",
    "        dir='D'\n",
    "    elif hex[-1]=='2':\n",
    "        dir='L'\n",
    "    elif hex[-1]=='3':\n",
    "        dir='U'\n",
    "    else:\n",
    "        raise Exception('Wrong direction value')\n",
    "    return (dir, dist)\n",
    "\n",
    "solve_problem([convert_hex(line[2]) for line in data])"
   ]
  }
 ],
 "metadata": {
  "kernelspec": {
   "display_name": "space",
   "language": "python",
   "name": "python3"
  },
  "language_info": {
   "codemirror_mode": {
    "name": "ipython",
    "version": 3
   },
   "file_extension": ".py",
   "mimetype": "text/x-python",
   "name": "python",
   "nbconvert_exporter": "python",
   "pygments_lexer": "ipython3",
   "version": "3.10.10"
  }
 },
 "nbformat": 4,
 "nbformat_minor": 2
}
