{
 "cells": [
  {
   "cell_type": "markdown",
   "metadata": {},
   "source": [
    "# Advent of Code"
   ]
  },
  {
   "cell_type": "markdown",
   "metadata": {},
   "source": [
    "## December 5<sup>th</sup>"
   ]
  },
  {
   "cell_type": "markdown",
   "metadata": {},
   "source": [
    "### Problem 1"
   ]
  },
  {
   "cell_type": "code",
   "execution_count": 1,
   "metadata": {},
   "outputs": [],
   "source": [
    "with open('input_day5.txt', 'r') as file:\n",
    "    data_raw=file.read()\n",
    "# data='''seeds: 79 14 55 13\n",
    "\n",
    "# seed-to-soil map:\n",
    "# 50 98 2\n",
    "# 52 50 48\n",
    "\n",
    "# soil-to-fertilizer map:\n",
    "# 0 15 37\n",
    "# 37 52 2\n",
    "# 39 0 15\n",
    "\n",
    "# fertilizer-to-water map:\n",
    "# 49 53 8\n",
    "# 0 11 42\n",
    "# 42 0 7\n",
    "# 57 7 4\n",
    "\n",
    "# water-to-light map:\n",
    "# 88 18 7\n",
    "# 18 25 70\n",
    "\n",
    "# light-to-temperature map:\n",
    "# 45 77 23\n",
    "# 81 45 19\n",
    "# 68 64 13\n",
    "\n",
    "# temperature-to-humidity map:\n",
    "# 0 69 1\n",
    "# 1 0 69\n",
    "\n",
    "# humidity-to-location map:\n",
    "# 60 56 37\n",
    "# 56 93 4'''\n",
    "maps={map.split(':')[0].split(' ')[0]: [tuple([int(integer) for integer in line.split(' ') if integer!='']) for line in map.split(':')[1].split('\\n') if len(line)>0] for map in data_raw.split('\\n\\n')}\n",
    "seeds=maps['seeds'][0]"
   ]
  },
  {
   "cell_type": "code",
   "execution_count": 2,
   "metadata": {},
   "outputs": [],
   "source": [
    "def convert_map(map, number):\n",
    "    mapped=number\n",
    "    for line in maps[map]:\n",
    "        if number >= line[1] and number < line[1]+line[2]:\n",
    "            mapped=(number-line[1])+line[0]\n",
    "    return mapped"
   ]
  },
  {
   "cell_type": "code",
   "execution_count": 3,
   "metadata": {},
   "outputs": [],
   "source": [
    "combinations={}\n",
    "for seed in seeds:\n",
    "    combinations[seed]={}\n",
    "    combinations[seed]['seed']=seed\n",
    "    combinations[seed]['soil']=convert_map('seed-to-soil',combinations[seed]['seed'])\n",
    "    combinations[seed]['fertilizer']=convert_map('soil-to-fertilizer', combinations[seed]['soil'])\n",
    "    combinations[seed]['water']=convert_map('fertilizer-to-water', combinations[seed]['fertilizer'])\n",
    "    combinations[seed]['light']=convert_map('water-to-light', combinations[seed]['water'])\n",
    "    combinations[seed]['temperature']=convert_map('light-to-temperature', combinations[seed]['light'])\n",
    "    combinations[seed]['humidity']=convert_map('temperature-to-humidity', combinations[seed]['temperature'])\n",
    "    combinations[seed]['location']=convert_map('humidity-to-location', combinations[seed]['humidity'])"
   ]
  },
  {
   "cell_type": "code",
   "execution_count": 4,
   "metadata": {},
   "outputs": [
    {
     "data": {
      "text/plain": [
       "346433842"
      ]
     },
     "execution_count": 4,
     "metadata": {},
     "output_type": "execute_result"
    }
   ],
   "source": [
    "min([combination['location'] for combination in combinations.values()])"
   ]
  },
  {
   "cell_type": "markdown",
   "metadata": {},
   "source": [
    "### Problem 2"
   ]
  },
  {
   "cell_type": "code",
   "execution_count": 5,
   "metadata": {},
   "outputs": [],
   "source": [
    "with open('input_day5.txt', 'r') as file:\n",
    "    data_raw=file.read()\n",
    "\n",
    "maps={map.split(':')[0].split(' ')[0]: sorted([tuple([int(integer) for integer in line.split(' ') if integer!='']) for line in map.split(':')[1].split('\\n') if len(line)>0], key=lambda a: a[1]) for map in data_raw.split('\\n\\n')}\n",
    "seeds=[tuple(maps['seeds'][0][2*index:2*index+2]) for index in range(len(maps['seeds'][0])//2)]"
   ]
  },
  {
   "cell_type": "code",
   "execution_count": 6,
   "metadata": {},
   "outputs": [],
   "source": [
    "def convert_tuples(map, list_of_tuples):\n",
    "    if list_of_tuples==[]:\n",
    "        return []\n",
    "    converted=None\n",
    "    line_conversion=None\n",
    "    converting_tuple=list_of_tuples[0]\n",
    "    for line in maps[map]:\n",
    "        if converting_tuple[0] >= line[1] and converting_tuple[0] < line[1]+line[2]:\n",
    "            converted=(converting_tuple[0]-line[1])+line[0]\n",
    "            line_conversion=line\n",
    "    if converted==None:\n",
    "        converted=converting_tuple[0]\n",
    "        differences=[line[1]-converting_tuple[0] for line in maps[map] if line[1]>converting_tuple[0]]\n",
    "        difference=min(differences) if differences!=[] else max([line[1]+line[2] for line in maps[map]])+converting_tuple[1]\n",
    "        line_conversion=(converted, converted, difference)\n",
    "    if converting_tuple[0]+converting_tuple[1]>line_conversion[1]+line_conversion[2]:\n",
    "        converted_tuple=(converted, line_conversion[1]+line_conversion[2]-converting_tuple[0])\n",
    "        new_list_of_tuples=[(line_conversion[1]+line_conversion[2], converting_tuple[1]-converted_tuple[1])]+list_of_tuples[1:]\n",
    "    else:\n",
    "        converted_tuple=(converted, converting_tuple[1])\n",
    "        new_list_of_tuples=list_of_tuples[1:]\n",
    "    return [converted_tuple]+convert_tuples(map, new_list_of_tuples)"
   ]
  },
  {
   "cell_type": "code",
   "execution_count": 7,
   "metadata": {},
   "outputs": [],
   "source": [
    "combinations={}\n",
    "for seed in seeds:\n",
    "    combinations[seed]={'seed': [seed]}\n",
    "    combinations[seed]['soil']=convert_tuples('seed-to-soil',combinations[seed]['seed'])\n",
    "    combinations[seed]['fertilizer']=convert_tuples('soil-to-fertilizer', combinations[seed]['soil'])\n",
    "    combinations[seed]['water']=convert_tuples('fertilizer-to-water', combinations[seed]['fertilizer'])\n",
    "    combinations[seed]['light']=convert_tuples('water-to-light', combinations[seed]['water'])\n",
    "    combinations[seed]['temperature']=convert_tuples('light-to-temperature', combinations[seed]['light'])\n",
    "    combinations[seed]['humidity']=convert_tuples('temperature-to-humidity', combinations[seed]['temperature'])\n",
    "    combinations[seed]['location']=convert_tuples('humidity-to-location', combinations[seed]['humidity'])"
   ]
  },
  {
   "cell_type": "code",
   "execution_count": 8,
   "metadata": {},
   "outputs": [
    {
     "data": {
      "text/plain": [
       "60294664"
      ]
     },
     "execution_count": 8,
     "metadata": {},
     "output_type": "execute_result"
    }
   ],
   "source": [
    "min([item[0] for item in sum([combination['location'] for combination in combinations.values()], [])])"
   ]
  }
 ],
 "metadata": {
  "kernelspec": {
   "display_name": "base",
   "language": "python",
   "name": "python3"
  },
  "language_info": {
   "codemirror_mode": {
    "name": "ipython",
    "version": 3
   },
   "file_extension": ".py",
   "mimetype": "text/x-python",
   "name": "python",
   "nbconvert_exporter": "python",
   "pygments_lexer": "ipython3",
   "version": "3.10.10"
  }
 },
 "nbformat": 4,
 "nbformat_minor": 2
}
