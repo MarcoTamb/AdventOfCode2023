{
 "cells": [
  {
   "cell_type": "markdown",
   "metadata": {},
   "source": [
    "# Advent of Code"
   ]
  },
  {
   "cell_type": "markdown",
   "metadata": {},
   "source": [
    "## December 2<sup>nd</sup>"
   ]
  },
  {
   "cell_type": "markdown",
   "metadata": {},
   "source": [
    "### Problem 1 "
   ]
  },
  {
   "cell_type": "code",
   "execution_count": 1,
   "metadata": {},
   "outputs": [
    {
     "name": "stdout",
     "output_type": "stream",
     "text": [
      "result=2085\n"
     ]
    }
   ],
   "source": [
    "import re\n",
    "class Game():\n",
    "    def __init__(self):\n",
    "        self.colors={\n",
    "            'red':12,\n",
    "            'green': 13, \n",
    "            'blue': 14, \n",
    "        }\n",
    "        self.possible=True\n",
    "    def extract(self, cubes, color):\n",
    "        if cubes>self.colors[color]:\n",
    "            self.possible=False\n",
    "    def reset(self):\n",
    "        self.possible=True\n",
    "\n",
    "\n",
    "with open('input_day2.txt', 'r') as file:\n",
    "    list_games=file.read().split('\\n')\n",
    "\n",
    "# list_games='''Game 1: 3 blue, 4 red; 1 red, 2 green, 6 blue; 2 green\n",
    "# Game 2: 1 blue, 2 green; 3 green, 4 blue, 1 red; 1 green, 1 blue\n",
    "# Game 3: 8 green, 6 blue, 20 red; 5 blue, 4 red, 13 green; 5 green, 1 red\n",
    "# Game 4: 1 green, 3 red, 6 blue; 3 green, 6 red; 3 green, 15 blue, 14 red\n",
    "# Game 5: 6 red, 1 blue, 3 green; 2 blue, 1 red, 2 green\n",
    "# '''.split('\\n')\n",
    "# remove game\n",
    "list_games=[item.split(':')[1] for item in list_games[:-1]]\n",
    "# separate extractions\n",
    "list_games=[re.split('(,|;)', item)[::2] for item in list_games]\n",
    "# create tuples\n",
    "list_games=[[(int(''.join(re.findall('[0-9]*', extraction))),re.findall('(red|green|blue)', extraction)[0]) for extraction in game ] for game in list_games]\n",
    "\n",
    "state=Game()\n",
    "posible_games=0\n",
    "game_count=0\n",
    "for index, game in enumerate(list_games):\n",
    "    for extraction in game:\n",
    "        state.extract(extraction[0], extraction[1])\n",
    "    if state.possible==True:\n",
    "        posible_games+=index+1\n",
    "    state.reset()\n",
    "\n",
    "print(f'result={posible_games}')"
   ]
  },
  {
   "cell_type": "markdown",
   "metadata": {},
   "source": [
    "### Problem 2 "
   ]
  },
  {
   "cell_type": "code",
   "execution_count": 2,
   "metadata": {},
   "outputs": [
    {
     "data": {
      "text/plain": [
       "79315"
      ]
     },
     "execution_count": 2,
     "metadata": {},
     "output_type": "execute_result"
    }
   ],
   "source": [
    "import re\n",
    "from numpy import prod\n",
    "class Game():\n",
    "    def __init__(self):\n",
    "        self.reset()\n",
    "    def extract(self, cubes, color):\n",
    "        if cubes>self.colors[color]:\n",
    "            self.colors[color]=cubes\n",
    "    def reset(self):\n",
    "        self.colors={\n",
    "            'red':0,\n",
    "            'green': 0, \n",
    "            'blue': 0, \n",
    "        }\n",
    "\n",
    "\n",
    "with open('input_day2.txt', 'r') as file:\n",
    "    list_games=file.read().split('\\n')\n",
    "\n",
    "# list_games='''Game 1: 3 blue, 4 red; 1 red, 2 green, 6 blue; 2 green\n",
    "# Game 2: 1 blue, 2 green; 3 green, 4 blue, 1 red; 1 green, 1 blue\n",
    "# Game 3: 8 green, 6 blue, 20 red; 5 blue, 4 red, 13 green; 5 green, 1 red\n",
    "# Game 4: 1 green, 3 red, 6 blue; 3 green, 6 red; 3 green, 15 blue, 14 red\n",
    "# Game 5: 6 red, 1 blue, 3 green; 2 blue, 1 red, 2 green\n",
    "# '''.split('\\n')\n",
    "# remove game\n",
    "list_games=[item.split(':')[1] for item in list_games[:-1]]\n",
    "# separate extraction\n",
    "list_games=[re.split('(,|;)', item)[::2] for item in list_games]\n",
    "# create tuples\n",
    "list_games=[[(int(''.join(re.findall('[0-9]*', extraction))),re.findall('(red|green|blue)', extraction)[0]) for extraction in game ] for game in list_games]\n",
    "\n",
    "state=Game()\n",
    "power_cubes=[]\n",
    "for index, game in enumerate(list_games):\n",
    "    for extraction in game:\n",
    "        state.extract(extraction[0], extraction[1])\n",
    "    power_cubes.append(prod(list(state.colors.values())))\n",
    "    state.reset()\n",
    "\n",
    "sum(power_cubes)"
   ]
  }
 ],
 "metadata": {
  "kernelspec": {
   "display_name": "base",
   "language": "python",
   "name": "python3"
  },
  "language_info": {
   "codemirror_mode": {
    "name": "ipython",
    "version": 3
   },
   "file_extension": ".py",
   "mimetype": "text/x-python",
   "name": "python",
   "nbconvert_exporter": "python",
   "pygments_lexer": "ipython3",
   "version": "3.10.10"
  }
 },
 "nbformat": 4,
 "nbformat_minor": 2
}
