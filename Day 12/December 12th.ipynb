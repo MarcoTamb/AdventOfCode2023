{
 "cells": [
  {
   "cell_type": "markdown",
   "metadata": {},
   "source": [
    "# Advent of Code"
   ]
  },
  {
   "cell_type": "markdown",
   "metadata": {},
   "source": [
    "## December 12<sup>th</sup> 💀"
   ]
  },
  {
   "cell_type": "markdown",
   "metadata": {},
   "source": [
    "### Problem 1"
   ]
  },
  {
   "cell_type": "code",
   "execution_count": null,
   "metadata": {},
   "outputs": [
    {
     "data": {
      "text/plain": [
       "7622"
      ]
     },
     "metadata": {},
     "output_type": "display_data"
    }
   ],
   "source": [
    "from itertools import product\n",
    "with open('input_day12.txt', 'r') as file:\n",
    "    data=file.read().split('\\n')\n",
    "# data='''???.### 1,1,3\n",
    "# .??..??...?##. 1,1,3\n",
    "# ?#?#?#?#?#?#?#? 1,3,1,6\n",
    "# ????.#...#... 4,1,1\n",
    "# ????.######..#####. 1,6,5\n",
    "# ?###???????? 3,2,1\n",
    "# '''.split('\\n')\n",
    "\n",
    "data=[line.split(' ') for line in data][:-1]\n",
    "data=[\n",
    "    (line[0], \n",
    "     tuple([int(item) for item in line[1].split(',')])) \n",
    "    for line in data\n",
    "    ]\n",
    "data\n",
    "def solve_line(string_input, key):\n",
    "    possible=[string_input.replace('#', '1').replace('.', '0').replace('?', '{}').format(*choice) for choice in product([0, 1], repeat=string_input.count('?'))]\n",
    "    split=[tuple(len(item) for item in string.split('0') if item!='') for string in possible if string.count('1')== sum(key)]\n",
    "    plausible=len([item for item in split if item == key])\n",
    "    return plausible\n",
    "sum([solve_line(line[0], line[1]) for line in data])\n"
   ]
  },
  {
   "cell_type": "code",
   "execution_count": null,
   "metadata": {},
   "outputs": [
    {
     "data": {
      "text/plain": [
       "18"
      ]
     },
     "metadata": {},
     "output_type": "display_data"
    }
   ],
   "source": [
    "with open('input_day12.txt', 'r') as file:\n",
    "    data=file.read().split('\\n')\n",
    "\n",
    "\n",
    "data=[line.split(' ') for line in data][:-1]\n",
    "data=[\n",
    "    ('?'.join([line[0]]), \n",
    "     tuple([int(item) for item in line[1].split(',')]))\n",
    "    for line in data\n",
    "    ]\n",
    "\n",
    "max([line[0].count('?') for line in data ])"
   ]
  },
  {
   "cell_type": "code",
   "execution_count": null,
   "metadata": {},
   "outputs": [
    {
     "data": {
      "text/plain": [
       "28"
      ]
     },
     "metadata": {},
     "output_type": "display_data"
    }
   ],
   "source": [
    "len(str(2**90))"
   ]
  },
  {
   "cell_type": "markdown",
   "metadata": {},
   "source": [
    "### Problem 2"
   ]
  },
  {
   "cell_type": "code",
   "execution_count": null,
   "metadata": {},
   "outputs": [
    {
     "name": "stdout",
     "output_type": "stream",
     "text": [
      "[8, 32, 20, 9, 16, 236]\n"
     ]
    }
   ],
   "source": [
    "import re\n",
    "with open('input_day12.txt', 'r') as file:\n",
    "    data=file.read().split('\\n')\n",
    "data='''???.### 1,1,3\n",
    ".??..??...?##. 1,1,3\n",
    "?#?#?#?#?#?#?#? 1,3,1,6\n",
    "????.#...#... 4,1,1\n",
    "????.######..#####. 1,6,5\n",
    "?###???????? 3,2,1\n",
    "'''.split('\\n')\n",
    "\n",
    "data=[line.split(' ') for line in data][:-1]\n",
    "data=[\n",
    "    ('?'.join([line[0]]), \n",
    "     tuple([int(item) for item in line[1].split(',')]))\n",
    "    for line in data\n",
    "    ]\n",
    "\n",
    "def bad_choices(string, key):\n",
    "    question_marks=string.count('?')\n",
    "    if question_marks==0:\n",
    "        return 1\n",
    "    elif len(key)==0:\n",
    "        if '#' in string:\n",
    "            return 2**question_marks\n",
    "        else:\n",
    "            return (2**question_marks)-1\n",
    "    elif string[0]=='.':\n",
    "        return bad_choices(string[1:], key)\n",
    "    elif string[0]=='#':\n",
    "        if '.' in string[:key[0]]:\n",
    "            return 2**question_marks\n",
    "        else: \n",
    "            return bad_choices(string[key[0]:], key[1:])\n",
    "    elif string[0]=='?':\n",
    "        local_string=string[key[0]+1]\n",
    "        local_question_marks=local_string.count('?')\n",
    "        if '.' in local_string[:-1]:\n",
    "            if '#' in local_string[:-1]:\n",
    "                pass #da scrivere\n",
    "                # conta il numero di ? prima del primo # tutte le scelte tranne una (tutti punti) sono sbagliate, ognuna per le possibili sclte del resto\n",
    "                # più le scelte sbagliate a partire dallo step successivo.\n",
    "            else:                     \n",
    "                pass #da scrivere\n",
    "                # conta il numero di ? prima del primo . tutte le scelte tranne una (tutti punti) sono sbagliate, ognuna per le possibili sclte del resto\n",
    "                # più le scelte sbagliate a partire dallo step successivo.\n",
    "        elif '#' in local_string[:-1]\n",
    "            if local_string[-1]=='.': \n",
    "                pass #da scrivere\n",
    "                # tutte le scelte sono sbagliate tranne una (tutti #)\n",
    "            elif local_string[-1]=='?': \n",
    "                pass #da scrivere\n",
    "                # tutte le scelte sono sbagliate tranne n (posizione primo # in localstring più 1) (.../..#/.##/###), ognuna per le possibili sclte del resto\n",
    "                # in queste n, tutte le scelte dopo il primo # sono sbagliate tranne 1 (tutti #)\n",
    "                # più le scelte sbagliate a partire dallo step successivo.\n",
    "        else:\n",
    "            if local_string[-1]=='.': \n",
    "                pass #da scrivere\n",
    "                # tutte le scelte sono sbagliate tranne due (tutti #/tutti ?)\n",
    "            elif local_string[-1]=='?': \n",
    "                pass #da scrivere\n",
    "                # Se ? è #, tutti i modi di scegliere i successivi sono sbagliate, tranne 1\n",
    "\n",
    "    else:\n",
    "        print(string, key, \"There shouldn't be an else!\")\n",
    "print([bad_choices(line[0], line[1]) for line in data])"
   ]
  },
  {
   "cell_type": "code",
   "execution_count": null,
   "metadata": {},
   "outputs": [
    {
     "data": {
      "text/plain": [
       "'.###'"
      ]
     },
     "metadata": {},
     "output_type": "display_data"
    }
   ],
   "source": [
    "'???.###'."
   ]
  },
  {
   "cell_type": "code",
   "execution_count": null,
   "metadata": {},
   "outputs": [
    {
     "data": {
      "text/plain": [
       "'.###????.###????.###????.###????.###'"
      ]
     },
     "metadata": {},
     "output_type": "display_data"
    }
   ],
   "source": [
    "string='???.###????.###????.###????.###????.###'\n",
    "length_question_marks=len(string)-len(string.lstrip('?'))"
   ]
  },
  {
   "cell_type": "code",
   "execution_count": null,
   "metadata": {},
   "outputs": [],
   "source": []
  },
  {
   "cell_type": "code",
   "execution_count": null,
   "metadata": {},
   "outputs": [
    {
     "data": {
      "text/plain": [
       "69047"
      ]
     },
     "metadata": {},
     "output_type": "display_data"
    }
   ],
   "source": [
    "solver('.??..??...?##.?.??..??...?##.?.??..??...?##.?.??..??...?##.?.??..??...?##.',(1, 1, 3, 1, 1, 3, 1, 1, 3, 1, 1, 3, 1, 1, 3))"
   ]
  }
 ],
 "metadata": {
  "language_info": {
   "name": "python"
  }
 },
 "nbformat": 4,
 "nbformat_minor": 2
}
