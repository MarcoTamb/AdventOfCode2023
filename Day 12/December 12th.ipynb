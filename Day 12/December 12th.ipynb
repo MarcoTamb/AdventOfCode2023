{
 "cells": [
  {
   "cell_type": "markdown",
   "metadata": {},
   "source": [
    "# Advent of Code"
   ]
  },
  {
   "cell_type": "markdown",
   "metadata": {},
   "source": [
    "## December 12<sup>th</sup> 💀"
   ]
  },
  {
   "cell_type": "markdown",
   "metadata": {},
   "source": [
    "### Problem 1"
   ]
  },
  {
   "cell_type": "code",
   "execution_count": 1,
   "metadata": {},
   "outputs": [
    {
     "data": {
      "text/plain": [
       "7622"
      ]
     },
     "execution_count": 1,
     "metadata": {},
     "output_type": "execute_result"
    }
   ],
   "source": [
    "from itertools import product\n",
    "with open('input_day12.txt', 'r') as file:\n",
    "    data=file.read().split('\\n')\n",
    "# data='''???.### 1,1,3\n",
    "# .??..??...?##. 1,1,3\n",
    "# ?#?#?#?#?#?#?#? 1,3,1,6\n",
    "# ????.#...#... 4,1,1\n",
    "# ????.######..#####. 1,6,5\n",
    "# ?###???????? 3,2,1\n",
    "# '''.split('\\n')\n",
    "\n",
    "data=[line.split(' ') for line in data][:-1]\n",
    "data=[\n",
    "    (line[0], \n",
    "     tuple([int(item) for item in line[1].split(',')])) \n",
    "    for line in data\n",
    "    ]\n",
    "data\n",
    "def solve_line(string_input, key):\n",
    "    possible=[string_input.replace('#', '1').replace('.', '0').replace('?', '{}').format(*choice) for choice in product([0, 1], repeat=string_input.count('?'))]\n",
    "    split=[tuple(len(item) for item in string.split('0') if item!='') for string in possible if string.count('1')== sum(key)]\n",
    "    plausible=len([item for item in split if item == key])\n",
    "    return plausible\n",
    "sum([solve_line(line[0], line[1]) for line in data])\n"
   ]
  },
  {
   "cell_type": "code",
   "execution_count": null,
   "metadata": {},
   "outputs": [
    {
     "data": {
      "text/plain": [
       "28"
      ]
     },
     "metadata": {},
     "output_type": "display_data"
    }
   ],
   "source": [
    "len(str(2**90))"
   ]
  },
  {
   "cell_type": "markdown",
   "metadata": {},
   "source": [
    "### Problem 2\n"
   ]
  },
  {
   "cell_type": "code",
   "execution_count": 55,
   "metadata": {},
   "outputs": [
    {
     "data": {
      "text/plain": [
       "9"
      ]
     },
     "execution_count": 55,
     "metadata": {},
     "output_type": "execute_result"
    }
   ],
   "source": [
    "with open('input_day12.txt', 'r') as file:\n",
    "    data=file.read().split('\\n')\n",
    "data='''???.### 1,1,3\n",
    ".??..??...?##. 1,1,3\n",
    "?#?#?#?#?#?#?#? 1,3,1,6\n",
    "????.#...#... 4,1,1\n",
    "????.######..#####. 1,6,5\n",
    "?###???????? 3,2,1\n",
    "'''.split('\\n')\n",
    "\n",
    "data=[line.split(' ') for line in data][:-1]\n",
    "data=[\n",
    "    ('?'.join([line[0]]), \n",
    "     tuple([int(item) for item in line[1].split(',')]))\n",
    "    for line in data\n",
    "    ]\n",
    "\n",
    "max([line[0].count('?') for line in data ])"
   ]
  },
  {
   "cell_type": "code",
   "execution_count": 63,
   "metadata": {},
   "outputs": [],
   "source": [
    "import re\n",
    "with open('input_day12.txt', 'r') as file:\n",
    "    data=file.read().split('\\n')\n",
    "# data='''???.### 1,1,3\n",
    "# .??..??...?##. 1,1,3\n",
    "# ?#?#?#?#?#?#?#? 1,3,1,6\n",
    "# ????.#...#... 4,1,1\n",
    "# ????.######..#####. 1,6,5\n",
    "# ?###???????? 3,2,1\n",
    "# '''.split('\\n')\n",
    "\n",
    "data=[line.split(' ') for line in data][:-1]\n",
    "data=[\n",
    "    ('?'.join([line[0]]*5), \n",
    "     tuple([int(item) for item in line[1].split(',')])*5)\n",
    "    for line in data\n",
    "    ]\n"
   ]
  },
  {
   "cell_type": "code",
   "execution_count": 62,
   "metadata": {},
   "outputs": [
    {
     "data": {
      "text/plain": [
       "4964259839627"
      ]
     },
     "execution_count": 62,
     "metadata": {},
     "output_type": "execute_result"
    }
   ],
   "source": [
    "cache={}\n",
    "def recursion_caching(string, key):\n",
    "    try:\n",
    "        return cache[(string, key)]\n",
    "    except KeyError:\n",
    "        pass\n",
    "    if len(key)==0:\n",
    "        if '#' in string:\n",
    "            cache[(string, key)]=0\n",
    "            return 0\n",
    "        else: \n",
    "            cache[(string, key)]=1\n",
    "            return 1\n",
    "    elif len(string)==0:\n",
    "        cache[(string, key)]=0\n",
    "        return 0\n",
    "    if string[0]=='.':\n",
    "        cache[(string, key)]=recursion_caching(string[1:], key)\n",
    "        return cache[(string, key)]\n",
    "    elif string[0]=='#':\n",
    "        if '.' in string[:key[0]]:\n",
    "            cache[(string, key)]=0\n",
    "            return 0\n",
    "        elif len(string)<key[0]:\n",
    "            cache[(string, key)]=0\n",
    "            return 0\n",
    "        elif len(string)!=key[0]:\n",
    "            if string[key[0]]=='#':\n",
    "                cache[(string, key)]=0\n",
    "                return 0\n",
    "            else:\n",
    "                cache[(string, key)]=recursion_caching(string[key[0]+1:], key[1:])\n",
    "                return cache[(string, key)]\n",
    "        else: \n",
    "            if len(key)==1:\n",
    "                cache[(string, key)]=1\n",
    "                return cache[(string, key)]\n",
    "            else:\n",
    "                cache[(string, key)]=0\n",
    "                return cache[(string, key)]\n",
    "    elif string[0]=='?':\n",
    "        if '.' in string[:key[0]]:\n",
    "            cache[(string, key)]=recursion_caching(string[1:], key)\n",
    "            return cache[(string, key)]\n",
    "        elif len(string)<key[0]:\n",
    "            cache[(string, key)]=recursion_caching(string[1:], key)\n",
    "            return cache[(string, key)]\n",
    "        elif len(string)!=key[0]:\n",
    "            if string[key[0]]=='#':\n",
    "                cache[(string, key)]=recursion_caching(string[1:], key)\n",
    "                return cache[(string, key)]\n",
    "            else:\n",
    "                cache[(string, key)]=recursion_caching(string[1:], key)+recursion_caching(string[key[0]+1:], key[1:])\n",
    "                return cache[(string, key)]\n",
    "        else: \n",
    "            if len(key)==1:\n",
    "                cache[(string, key)]=1\n",
    "                return cache[(string, key)]\n",
    "            else:\n",
    "                cache[(string, key)]=0\n",
    "                return cache[(string, key)]\n",
    "\n",
    "    else:\n",
    "        print(string, key)\n",
    "sum([recursion_caching(line[0], line[1]) for line in data])\n"
   ]
  }
 ],
 "metadata": {
  "kernelspec": {
   "display_name": "base",
   "language": "python",
   "name": "python3"
  },
  "language_info": {
   "codemirror_mode": {
    "name": "ipython",
    "version": 3
   },
   "file_extension": ".py",
   "mimetype": "text/x-python",
   "name": "python",
   "nbconvert_exporter": "python",
   "pygments_lexer": "ipython3",
   "version": "3.10.10"
  }
 },
 "nbformat": 4,
 "nbformat_minor": 2
}
